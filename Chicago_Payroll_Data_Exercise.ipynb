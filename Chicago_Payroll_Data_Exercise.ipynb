{
  "cells": [
    {
      "cell_type": "markdown",
      "metadata": {
        "id": "view-in-github",
        "colab_type": "text"
      },
      "source": [
        "<a href=\"https://colab.research.google.com/github/Fahim-Bin-Rafiq/Data-Analytic/blob/main/Chicago_Payroll_Data_Exercise.ipynb\" target=\"_parent\"><img src=\"https://colab.research.google.com/assets/colab-badge.svg\" alt=\"Open In Colab\"/></a>"
      ]
    },
    {
      "cell_type": "markdown",
      "metadata": {
        "id": "qtL715vXoH6b"
      },
      "source": [
        "# Chicago Payroll Data Exercise Solution\n",
        "\n",
        "Hi guys, <br>\n",
        "So far, you have made great progress, Excellent job!<br>\n",
        "Let's explore real [payroll data of Chicago city](https://www.kaggle.com/chicago/chicago-citywide-payroll-data). This data is available on [kaggle](https://www.kaggle.com) website and can be downloaded using the provided link. However, a copy of dataset is provided in the course material as well. <br>\n",
        "\n",
        "\n",
        "Please follow the instructions and answer the questions accordingly. <br>\n",
        "Good luck!<br>\n",
        "\n",
        "**Links to few similar datasets are given below to explore ang practice your skills.**<br>\n",
        "&#9758; [City payroll information for all Los Angeles employees since 2013](https://www.kaggle.com/cityofLA/city-payroll-data) <br>\n",
        "&#9758; [San Francisco city employee salary data](https://www.kaggle.com/kaggle/sf-salaries)<br>\n",
        "&#9758; [New York City - Citywide Payroll Data](https://www.kaggle.com/new-york-city/nyc-citywide-payroll-data)"
      ]
    },
    {
      "cell_type": "markdown",
      "metadata": {
        "id": "zRcKLUSpoH6e"
      },
      "source": [
        "**1. Import pandas as pd.**"
      ]
    },
    {
      "cell_type": "code",
      "execution_count": null,
      "metadata": {
        "id": "5Y2aGhK_oH6e"
      },
      "outputs": [],
      "source": [
        "import pandas as pd"
      ]
    },
    {
      "cell_type": "markdown",
      "metadata": {
        "id": "X03qWHRwoH6f"
      },
      "source": [
        "**2. Read City_of_Chicago_Payroll_Data.csv as a dataframe in pay.**"
      ]
    },
    {
      "cell_type": "code",
      "execution_count": null,
      "metadata": {
        "id": "jZk-YMvXoH6f"
      },
      "outputs": [],
      "source": [
        "pay = pd.read_csv('City_of_Chicago_Payroll_Data.csv')"
      ]
    },
    {
      "cell_type": "markdown",
      "metadata": {
        "id": "Xyfu9zYUoH6f"
      },
      "source": [
        "**3. Show first five records in your data.**"
      ]
    },
    {
      "cell_type": "code",
      "execution_count": null,
      "metadata": {
        "id": "5q8GY2rqoH6g",
        "outputId": "1df8ecd6-5683-4f88-a4eb-1fd26d9d0381"
      },
      "outputs": [
        {
          "data": {
            "text/html": [
              "<div>\n",
              "<style scoped>\n",
              "    .dataframe tbody tr th:only-of-type {\n",
              "        vertical-align: middle;\n",
              "    }\n",
              "\n",
              "    .dataframe tbody tr th {\n",
              "        vertical-align: top;\n",
              "    }\n",
              "\n",
              "    .dataframe thead th {\n",
              "        text-align: right;\n",
              "    }\n",
              "</style>\n",
              "<table border=\"1\" class=\"dataframe\">\n",
              "  <thead>\n",
              "    <tr style=\"text-align: right;\">\n",
              "      <th></th>\n",
              "      <th>Name</th>\n",
              "      <th>Job Titles</th>\n",
              "      <th>Department</th>\n",
              "      <th>Full or Part-Time</th>\n",
              "      <th>Salary or Hourly</th>\n",
              "      <th>Typical Hours</th>\n",
              "      <th>Annual Salary</th>\n",
              "      <th>Hourly Rate</th>\n",
              "    </tr>\n",
              "  </thead>\n",
              "  <tbody>\n",
              "    <tr>\n",
              "      <th>0</th>\n",
              "      <td>ALLISON,  PAUL W</td>\n",
              "      <td>LIEUTENANT</td>\n",
              "      <td>FIRE</td>\n",
              "      <td>F</td>\n",
              "      <td>Salary</td>\n",
              "      <td>NaN</td>\n",
              "      <td>$107790.00</td>\n",
              "      <td>NaN</td>\n",
              "    </tr>\n",
              "    <tr>\n",
              "      <th>1</th>\n",
              "      <td>BRUNO,  KEVIN D</td>\n",
              "      <td>SERGEANT</td>\n",
              "      <td>POLICE</td>\n",
              "      <td>F</td>\n",
              "      <td>Salary</td>\n",
              "      <td>NaN</td>\n",
              "      <td>$104628.00</td>\n",
              "      <td>NaN</td>\n",
              "    </tr>\n",
              "    <tr>\n",
              "      <th>2</th>\n",
              "      <td>COOPER,  JOHN E</td>\n",
              "      <td>LIEUTENANT-EMT</td>\n",
              "      <td>FIRE</td>\n",
              "      <td>F</td>\n",
              "      <td>Salary</td>\n",
              "      <td>NaN</td>\n",
              "      <td>$114324.00</td>\n",
              "      <td>NaN</td>\n",
              "    </tr>\n",
              "    <tr>\n",
              "      <th>3</th>\n",
              "      <td>CRESPO,  VILMA I</td>\n",
              "      <td>STAFF ASST</td>\n",
              "      <td>LAW</td>\n",
              "      <td>F</td>\n",
              "      <td>Salary</td>\n",
              "      <td>NaN</td>\n",
              "      <td>$76932.00</td>\n",
              "      <td>NaN</td>\n",
              "    </tr>\n",
              "    <tr>\n",
              "      <th>4</th>\n",
              "      <td>DOLAN,  ROBERT J</td>\n",
              "      <td>SERGEANT</td>\n",
              "      <td>POLICE</td>\n",
              "      <td>F</td>\n",
              "      <td>Salary</td>\n",
              "      <td>NaN</td>\n",
              "      <td>$111474.00</td>\n",
              "      <td>NaN</td>\n",
              "    </tr>\n",
              "    <tr>\n",
              "      <th>...</th>\n",
              "      <td>...</td>\n",
              "      <td>...</td>\n",
              "      <td>...</td>\n",
              "      <td>...</td>\n",
              "      <td>...</td>\n",
              "      <td>...</td>\n",
              "      <td>...</td>\n",
              "      <td>...</td>\n",
              "    </tr>\n",
              "    <tr>\n",
              "      <th>32653</th>\n",
              "      <td>ZYGOWICZ,  PETER J</td>\n",
              "      <td>POLICE OFFICER</td>\n",
              "      <td>POLICE</td>\n",
              "      <td>F</td>\n",
              "      <td>Salary</td>\n",
              "      <td>NaN</td>\n",
              "      <td>$90024.00</td>\n",
              "      <td>NaN</td>\n",
              "    </tr>\n",
              "    <tr>\n",
              "      <th>32654</th>\n",
              "      <td>ZYLINSKA,  KATARZYNA</td>\n",
              "      <td>POLICE OFFICER</td>\n",
              "      <td>POLICE</td>\n",
              "      <td>F</td>\n",
              "      <td>Salary</td>\n",
              "      <td>NaN</td>\n",
              "      <td>$48078.00</td>\n",
              "      <td>NaN</td>\n",
              "    </tr>\n",
              "    <tr>\n",
              "      <th>32655</th>\n",
              "      <td>ZYMANTAS,  MARK E</td>\n",
              "      <td>POLICE OFFICER</td>\n",
              "      <td>POLICE</td>\n",
              "      <td>F</td>\n",
              "      <td>Salary</td>\n",
              "      <td>NaN</td>\n",
              "      <td>$87006.00</td>\n",
              "      <td>NaN</td>\n",
              "    </tr>\n",
              "    <tr>\n",
              "      <th>32656</th>\n",
              "      <td>ZYRKOWSKI,  CARLO E</td>\n",
              "      <td>POLICE OFFICER</td>\n",
              "      <td>POLICE</td>\n",
              "      <td>F</td>\n",
              "      <td>Salary</td>\n",
              "      <td>NaN</td>\n",
              "      <td>$93354.00</td>\n",
              "      <td>NaN</td>\n",
              "    </tr>\n",
              "    <tr>\n",
              "      <th>32657</th>\n",
              "      <td>ZYSKOWSKI,  DARIUSZ</td>\n",
              "      <td>CHIEF DATA BASE ANALYST</td>\n",
              "      <td>DoIT</td>\n",
              "      <td>F</td>\n",
              "      <td>Salary</td>\n",
              "      <td>NaN</td>\n",
              "      <td>$115932.00</td>\n",
              "      <td>NaN</td>\n",
              "    </tr>\n",
              "  </tbody>\n",
              "</table>\n",
              "<p>32658 rows × 8 columns</p>\n",
              "</div>"
            ],
            "text/plain": [
              "                        Name               Job Titles Department  \\\n",
              "0           ALLISON,  PAUL W               LIEUTENANT       FIRE   \n",
              "1            BRUNO,  KEVIN D                 SERGEANT     POLICE   \n",
              "2            COOPER,  JOHN E           LIEUTENANT-EMT       FIRE   \n",
              "3           CRESPO,  VILMA I               STAFF ASST        LAW   \n",
              "4           DOLAN,  ROBERT J                 SERGEANT     POLICE   \n",
              "...                      ...                      ...        ...   \n",
              "32653     ZYGOWICZ,  PETER J           POLICE OFFICER     POLICE   \n",
              "32654  ZYLINSKA,  KATARZYNA            POLICE OFFICER     POLICE   \n",
              "32655      ZYMANTAS,  MARK E           POLICE OFFICER     POLICE   \n",
              "32656    ZYRKOWSKI,  CARLO E           POLICE OFFICER     POLICE   \n",
              "32657   ZYSKOWSKI,  DARIUSZ   CHIEF DATA BASE ANALYST       DoIT   \n",
              "\n",
              "      Full or Part-Time Salary or Hourly  Typical Hours Annual Salary  \\\n",
              "0                     F           Salary            NaN    $107790.00   \n",
              "1                     F           Salary            NaN    $104628.00   \n",
              "2                     F           Salary            NaN    $114324.00   \n",
              "3                     F           Salary            NaN     $76932.00   \n",
              "4                     F           Salary            NaN    $111474.00   \n",
              "...                 ...              ...            ...           ...   \n",
              "32653                 F           Salary            NaN     $90024.00   \n",
              "32654                 F           Salary            NaN     $48078.00   \n",
              "32655                 F           Salary            NaN     $87006.00   \n",
              "32656                 F           Salary            NaN     $93354.00   \n",
              "32657                 F           Salary            NaN    $115932.00   \n",
              "\n",
              "      Hourly Rate  \n",
              "0             NaN  \n",
              "1             NaN  \n",
              "2             NaN  \n",
              "3             NaN  \n",
              "4             NaN  \n",
              "...           ...  \n",
              "32653         NaN  \n",
              "32654         NaN  \n",
              "32655         NaN  \n",
              "32656         NaN  \n",
              "32657         NaN  \n",
              "\n",
              "[32658 rows x 8 columns]"
            ]
          },
          "execution_count": 3,
          "metadata": {},
          "output_type": "execute_result"
        }
      ],
      "source": [
        "pay"
      ]
    },
    {
      "cell_type": "markdown",
      "metadata": {
        "id": "9iZqoU_SoH6g"
      },
      "source": [
        "**3. Get the overview of your data.<br>**"
      ]
    },
    {
      "cell_type": "code",
      "execution_count": null,
      "metadata": {
        "scrolled": true,
        "id": "hpwkx6_MoH6g",
        "outputId": "894b78c0-45d0-413b-aa07-35233db97535"
      },
      "outputs": [
        {
          "name": "stdout",
          "output_type": "stream",
          "text": [
            "<class 'pandas.core.frame.DataFrame'>\n",
            "RangeIndex: 32658 entries, 0 to 32657\n",
            "Data columns (total 8 columns):\n",
            " #   Column             Non-Null Count  Dtype  \n",
            "---  ------             --------------  -----  \n",
            " 0   Name               32658 non-null  object \n",
            " 1   Job Titles         32658 non-null  object \n",
            " 2   Department         32658 non-null  object \n",
            " 3   Full or Part-Time  32658 non-null  object \n",
            " 4   Salary or Hourly   32658 non-null  object \n",
            " 5   Typical Hours      7883 non-null   float64\n",
            " 6   Annual Salary      24775 non-null  object \n",
            " 7   Hourly Rate        7883 non-null   object \n",
            "dtypes: float64(1), object(7)\n",
            "memory usage: 2.0+ MB\n"
          ]
        }
      ],
      "source": [
        "pay.info()"
      ]
    },
    {
      "cell_type": "markdown",
      "metadata": {
        "id": "JHb_U7QRoH6h"
      },
      "source": [
        "Notice that:<br>\n",
        "`Typical Hours` is the only float type. <br>\n",
        "`Typical Hours`, `Annual Salary` and `Hourly Rate` have lots of NaN or null values."
      ]
    },
    {
      "cell_type": "markdown",
      "metadata": {
        "id": "SKWood-1oH6h"
      },
      "source": [
        "**4. How many 'NaN' you have in each column in your data?**<br>\n",
        "*Hint: use [<code>isnull()</code>](https://pandas.pydata.org/pandas-docs/stable/generated/pandas.isnull.html)*"
      ]
    },
    {
      "cell_type": "code",
      "execution_count": null,
      "metadata": {
        "id": "5qbWJnygoH6h",
        "outputId": "a6157501-9917-4fb0-ad0c-30694afbf29d"
      },
      "outputs": [
        {
          "data": {
            "text/plain": [
              "Name                     0\n",
              "Job Titles               0\n",
              "Department               0\n",
              "Full or Part-Time        0\n",
              "Salary or Hourly         0\n",
              "Typical Hours        24775\n",
              "Annual Salary         7883\n",
              "Hourly Rate          24775\n",
              "dtype: int64"
            ]
          },
          "execution_count": 5,
          "metadata": {},
          "output_type": "execute_result"
        }
      ],
      "source": [
        "pay.isnull().sum()"
      ]
    },
    {
      "cell_type": "markdown",
      "metadata": {
        "id": "PEw1ycHMoH6i"
      },
      "source": [
        "**5. Output the statistics for your dataset.**"
      ]
    },
    {
      "cell_type": "code",
      "execution_count": null,
      "metadata": {
        "id": "HmpWeuosoH6i",
        "outputId": "70c1953f-3c06-4773-feef-f1f3c95ae095"
      },
      "outputs": [
        {
          "data": {
            "text/html": [
              "<div>\n",
              "<style scoped>\n",
              "    .dataframe tbody tr th:only-of-type {\n",
              "        vertical-align: middle;\n",
              "    }\n",
              "\n",
              "    .dataframe tbody tr th {\n",
              "        vertical-align: top;\n",
              "    }\n",
              "\n",
              "    .dataframe thead th {\n",
              "        text-align: right;\n",
              "    }\n",
              "</style>\n",
              "<table border=\"1\" class=\"dataframe\">\n",
              "  <thead>\n",
              "    <tr style=\"text-align: right;\">\n",
              "      <th></th>\n",
              "      <th>Name</th>\n",
              "      <th>Job Titles</th>\n",
              "      <th>Department</th>\n",
              "      <th>Full or Part-Time</th>\n",
              "      <th>Salary or Hourly</th>\n",
              "      <th>Typical Hours</th>\n",
              "      <th>Annual Salary</th>\n",
              "      <th>Hourly Rate</th>\n",
              "    </tr>\n",
              "  </thead>\n",
              "  <tbody>\n",
              "    <tr>\n",
              "      <th>count</th>\n",
              "      <td>32658</td>\n",
              "      <td>32658</td>\n",
              "      <td>32658</td>\n",
              "      <td>32658</td>\n",
              "      <td>32658</td>\n",
              "      <td>7883.000000</td>\n",
              "      <td>24775</td>\n",
              "      <td>7883</td>\n",
              "    </tr>\n",
              "    <tr>\n",
              "      <th>unique</th>\n",
              "      <td>32350</td>\n",
              "      <td>1095</td>\n",
              "      <td>36</td>\n",
              "      <td>2</td>\n",
              "      <td>2</td>\n",
              "      <td>NaN</td>\n",
              "      <td>1038</td>\n",
              "      <td>167</td>\n",
              "    </tr>\n",
              "    <tr>\n",
              "      <th>top</th>\n",
              "      <td>HERNANDEZ,  JUAN C</td>\n",
              "      <td>POLICE OFFICER</td>\n",
              "      <td>POLICE</td>\n",
              "      <td>F</td>\n",
              "      <td>Salary</td>\n",
              "      <td>NaN</td>\n",
              "      <td>$90024.00</td>\n",
              "      <td>$35.60</td>\n",
              "    </tr>\n",
              "    <tr>\n",
              "      <th>freq</th>\n",
              "      <td>5</td>\n",
              "      <td>9393</td>\n",
              "      <td>12973</td>\n",
              "      <td>30676</td>\n",
              "      <td>24775</td>\n",
              "      <td>NaN</td>\n",
              "      <td>2368</td>\n",
              "      <td>1404</td>\n",
              "    </tr>\n",
              "    <tr>\n",
              "      <th>mean</th>\n",
              "      <td>NaN</td>\n",
              "      <td>NaN</td>\n",
              "      <td>NaN</td>\n",
              "      <td>NaN</td>\n",
              "      <td>NaN</td>\n",
              "      <td>34.698719</td>\n",
              "      <td>NaN</td>\n",
              "      <td>NaN</td>\n",
              "    </tr>\n",
              "    <tr>\n",
              "      <th>std</th>\n",
              "      <td>NaN</td>\n",
              "      <td>NaN</td>\n",
              "      <td>NaN</td>\n",
              "      <td>NaN</td>\n",
              "      <td>NaN</td>\n",
              "      <td>9.145553</td>\n",
              "      <td>NaN</td>\n",
              "      <td>NaN</td>\n",
              "    </tr>\n",
              "    <tr>\n",
              "      <th>min</th>\n",
              "      <td>NaN</td>\n",
              "      <td>NaN</td>\n",
              "      <td>NaN</td>\n",
              "      <td>NaN</td>\n",
              "      <td>NaN</td>\n",
              "      <td>10.000000</td>\n",
              "      <td>NaN</td>\n",
              "      <td>NaN</td>\n",
              "    </tr>\n",
              "    <tr>\n",
              "      <th>25%</th>\n",
              "      <td>NaN</td>\n",
              "      <td>NaN</td>\n",
              "      <td>NaN</td>\n",
              "      <td>NaN</td>\n",
              "      <td>NaN</td>\n",
              "      <td>20.000000</td>\n",
              "      <td>NaN</td>\n",
              "      <td>NaN</td>\n",
              "    </tr>\n",
              "    <tr>\n",
              "      <th>50%</th>\n",
              "      <td>NaN</td>\n",
              "      <td>NaN</td>\n",
              "      <td>NaN</td>\n",
              "      <td>NaN</td>\n",
              "      <td>NaN</td>\n",
              "      <td>40.000000</td>\n",
              "      <td>NaN</td>\n",
              "      <td>NaN</td>\n",
              "    </tr>\n",
              "    <tr>\n",
              "      <th>75%</th>\n",
              "      <td>NaN</td>\n",
              "      <td>NaN</td>\n",
              "      <td>NaN</td>\n",
              "      <td>NaN</td>\n",
              "      <td>NaN</td>\n",
              "      <td>40.000000</td>\n",
              "      <td>NaN</td>\n",
              "      <td>NaN</td>\n",
              "    </tr>\n",
              "    <tr>\n",
              "      <th>max</th>\n",
              "      <td>NaN</td>\n",
              "      <td>NaN</td>\n",
              "      <td>NaN</td>\n",
              "      <td>NaN</td>\n",
              "      <td>NaN</td>\n",
              "      <td>40.000000</td>\n",
              "      <td>NaN</td>\n",
              "      <td>NaN</td>\n",
              "    </tr>\n",
              "  </tbody>\n",
              "</table>\n",
              "</div>"
            ],
            "text/plain": [
              "                      Name      Job Titles Department Full or Part-Time  \\\n",
              "count                32658           32658      32658             32658   \n",
              "unique               32350            1095         36                 2   \n",
              "top     HERNANDEZ,  JUAN C  POLICE OFFICER     POLICE                 F   \n",
              "freq                     5            9393      12973             30676   \n",
              "mean                   NaN             NaN        NaN               NaN   \n",
              "std                    NaN             NaN        NaN               NaN   \n",
              "min                    NaN             NaN        NaN               NaN   \n",
              "25%                    NaN             NaN        NaN               NaN   \n",
              "50%                    NaN             NaN        NaN               NaN   \n",
              "75%                    NaN             NaN        NaN               NaN   \n",
              "max                    NaN             NaN        NaN               NaN   \n",
              "\n",
              "       Salary or Hourly  Typical Hours Annual Salary Hourly Rate  \n",
              "count             32658    7883.000000         24775        7883  \n",
              "unique                2            NaN          1038         167  \n",
              "top              Salary            NaN     $90024.00      $35.60  \n",
              "freq              24775            NaN          2368        1404  \n",
              "mean                NaN      34.698719           NaN         NaN  \n",
              "std                 NaN       9.145553           NaN         NaN  \n",
              "min                 NaN      10.000000           NaN         NaN  \n",
              "25%                 NaN      20.000000           NaN         NaN  \n",
              "50%                 NaN      40.000000           NaN         NaN  \n",
              "75%                 NaN      40.000000           NaN         NaN  \n",
              "max                 NaN      40.000000           NaN         NaN  "
            ]
          },
          "execution_count": 7,
          "metadata": {},
          "output_type": "execute_result"
        }
      ],
      "source": [
        "pay.describe(include='all')"
      ]
    },
    {
      "cell_type": "markdown",
      "metadata": {
        "id": "1SB3SunKoH6i"
      },
      "source": [
        "**6. What are the maximum, minimum and average Typical Hours? (use 'Typical Hours' column)**<br>"
      ]
    },
    {
      "cell_type": "code",
      "execution_count": null,
      "metadata": {
        "scrolled": true,
        "id": "8U9iwYCdoH6j",
        "outputId": "efef3220-757a-4795-bccd-73d6233bca1b"
      },
      "outputs": [
        {
          "name": "stdout",
          "output_type": "stream",
          "text": [
            "Max Typical Hours are: 40.0\n",
            "Min Typical Hours are: 10.0\n",
            "Mean/Avg Typical Hours are: 34.69871876189268\n"
          ]
        }
      ],
      "source": [
        "print('Max Typical Hours are:', pay['Typical Hours'].max())\n",
        "print('Min Typical Hours are:', pay['Typical Hours'].min())\n",
        "print('Mean/Avg Typical Hours are:', pay['Typical Hours'].mean())"
      ]
    },
    {
      "cell_type": "markdown",
      "metadata": {
        "id": "IMTVS-D3oH6j"
      },
      "source": [
        "**7. How many employees are on salary and how many are working on hourly basis?**<br>\n",
        "*Hint: Group the data on 'Salary or Hourly' column. Instead of whole dataset, you can take the single column as input as well.*"
      ]
    },
    {
      "cell_type": "code",
      "execution_count": null,
      "metadata": {
        "id": "rWj4fo9UoH6j",
        "outputId": "5d2e963e-e038-42fb-8d5c-973d10cffeba"
      },
      "outputs": [
        {
          "data": {
            "text/html": [
              "<div>\n",
              "<style scoped>\n",
              "    .dataframe tbody tr th:only-of-type {\n",
              "        vertical-align: middle;\n",
              "    }\n",
              "\n",
              "    .dataframe tbody tr th {\n",
              "        vertical-align: top;\n",
              "    }\n",
              "\n",
              "    .dataframe thead th {\n",
              "        text-align: right;\n",
              "    }\n",
              "</style>\n",
              "<table border=\"1\" class=\"dataframe\">\n",
              "  <thead>\n",
              "    <tr style=\"text-align: right;\">\n",
              "      <th></th>\n",
              "      <th>Name</th>\n",
              "    </tr>\n",
              "    <tr>\n",
              "      <th>Salary or Hourly</th>\n",
              "      <th></th>\n",
              "    </tr>\n",
              "  </thead>\n",
              "  <tbody>\n",
              "    <tr>\n",
              "      <th>Hourly</th>\n",
              "      <td>7883</td>\n",
              "    </tr>\n",
              "    <tr>\n",
              "      <th>Salary</th>\n",
              "      <td>24775</td>\n",
              "    </tr>\n",
              "  </tbody>\n",
              "</table>\n",
              "</div>"
            ],
            "text/plain": [
              "                   Name\n",
              "Salary or Hourly       \n",
              "Hourly             7883\n",
              "Salary            24775"
            ]
          },
          "execution_count": 12,
          "metadata": {},
          "output_type": "execute_result"
        }
      ],
      "source": [
        "#pay['Salary or Hourly'].groupby(pay['Salary or Hourly']).count()\n",
        "pay.groupby('Salary or Hourly').count()[['Name']]"
      ]
    },
    {
      "cell_type": "code",
      "execution_count": null,
      "metadata": {
        "id": "6kqAjxjioH6j",
        "outputId": "861a5608-78b4-454b-97e3-f68b0bac2bc9"
      },
      "outputs": [
        {
          "data": {
            "text/plain": [
              "Salary or Hourly\n",
              "Salary    24775\n",
              "Hourly     7883\n",
              "Name: count, dtype: int64"
            ]
          },
          "execution_count": 13,
          "metadata": {},
          "output_type": "execute_result"
        }
      ],
      "source": [
        "pay['Salary or Hourly'].value_counts()"
      ]
    },
    {
      "cell_type": "markdown",
      "metadata": {
        "id": "pblHKDd2oH6k"
      },
      "source": [
        "**8. Which department has maximum no of employees?**"
      ]
    },
    {
      "cell_type": "code",
      "execution_count": null,
      "metadata": {
        "id": "fDbzChanoH6k",
        "outputId": "315b425f-91f7-4d01-8503-9da3ab8efae1"
      },
      "outputs": [
        {
          "data": {
            "text/plain": [
              "Name    POLICE\n",
              "dtype: object"
            ]
          },
          "execution_count": 20,
          "metadata": {},
          "output_type": "execute_result"
        }
      ],
      "source": [
        "pay.groupby('Department').count()[['Name']].idxmax()"
      ]
    },
    {
      "cell_type": "code",
      "execution_count": null,
      "metadata": {
        "id": "cLkaG2cDoH6k",
        "outputId": "560bb479-a9d6-4165-fe1b-17093451c600"
      },
      "outputs": [
        {
          "data": {
            "text/html": [
              "<div>\n",
              "<style scoped>\n",
              "    .dataframe tbody tr th:only-of-type {\n",
              "        vertical-align: middle;\n",
              "    }\n",
              "\n",
              "    .dataframe tbody tr th {\n",
              "        vertical-align: top;\n",
              "    }\n",
              "\n",
              "    .dataframe thead th {\n",
              "        text-align: right;\n",
              "    }\n",
              "</style>\n",
              "<table border=\"1\" class=\"dataframe\">\n",
              "  <thead>\n",
              "    <tr style=\"text-align: right;\">\n",
              "      <th></th>\n",
              "      <th>Name</th>\n",
              "    </tr>\n",
              "    <tr>\n",
              "      <th>Department</th>\n",
              "      <th></th>\n",
              "    </tr>\n",
              "  </thead>\n",
              "  <tbody>\n",
              "    <tr>\n",
              "      <th>POLICE</th>\n",
              "      <td>12973</td>\n",
              "    </tr>\n",
              "  </tbody>\n",
              "</table>\n",
              "</div>"
            ],
            "text/plain": [
              "             Name\n",
              "Department       \n",
              "POLICE      12973"
            ]
          },
          "execution_count": 24,
          "metadata": {},
          "output_type": "execute_result"
        }
      ],
      "source": [
        "pay.groupby('Department').count().sort_values(by='Name', ascending=False)[['Name']].head(1)"
      ]
    },
    {
      "cell_type": "code",
      "execution_count": null,
      "metadata": {
        "id": "JAgNjMk5oH6k",
        "outputId": "38e88bcc-a4c2-4a6f-ab02-c86ee2107665"
      },
      "outputs": [
        {
          "data": {
            "text/plain": [
              "Department\n",
              "POLICE    12973\n",
              "Name: count, dtype: int64"
            ]
          },
          "execution_count": 18,
          "metadata": {},
          "output_type": "execute_result"
        }
      ],
      "source": [
        "pay['Department'].value_counts().head(1)"
      ]
    },
    {
      "cell_type": "markdown",
      "metadata": {
        "id": "yRrPp3o3oH6l"
      },
      "source": [
        "**9. How many employees are on Salary and how many are on Hourly in the Police department?**"
      ]
    },
    {
      "cell_type": "code",
      "execution_count": null,
      "metadata": {
        "id": "RqRCAFYnoH6l",
        "outputId": "d15bb697-3320-4e3a-cdd0-34a67be62fea"
      },
      "outputs": [
        {
          "data": {
            "text/plain": [
              "Salary or Hourly\n",
              "Hourly       32\n",
              "Salary    12941\n",
              "Name: Name, dtype: int64"
            ]
          },
          "execution_count": 30,
          "metadata": {},
          "output_type": "execute_result"
        }
      ],
      "source": [
        "pay[pay['Department'] == 'POLICE'].groupby('Salary or Hourly').count()['Name']"
      ]
    },
    {
      "cell_type": "code",
      "execution_count": null,
      "metadata": {
        "id": "emaK6PkYoH6l",
        "outputId": "185c2f18-19bb-4d0d-c25c-9496ecd994e3"
      },
      "outputs": [
        {
          "data": {
            "text/plain": [
              "Salary or Hourly\n",
              "Salary    12941\n",
              "Hourly       32\n",
              "Name: count, dtype: int64"
            ]
          },
          "execution_count": 31,
          "metadata": {},
          "output_type": "execute_result"
        }
      ],
      "source": [
        "df = pay[pay['Department']=='POLICE']\n",
        "df['Salary or Hourly'].value_counts()"
      ]
    },
    {
      "cell_type": "markdown",
      "metadata": {
        "collapsed": true,
        "id": "-NZU7bmuoH6l"
      },
      "source": [
        "**10. What are the mean, max and min salaries?**<br>\n",
        "use <code>.str and replace()</code><br>\n",
        "Create a new column name \"Salaries\" and separate the number from dollar sign as float .<br>\n",
        "Hint: [pandas.series.str](https://pandas.pydata.org/pandas-docs/stable/generated/pandas.Series.str.split.html) and [Stackoverflow link](https://stackoverflow.com/questions/38516481/trying-to-remove-commas-and-dollars-signs-with-pandas-in-python)"
      ]
    },
    {
      "cell_type": "code",
      "execution_count": null,
      "metadata": {
        "id": "Akl4x9fVoH6l",
        "outputId": "04932a0d-aba0-4d60-993d-bb1f0143c8c1"
      },
      "outputs": [
        {
          "data": {
            "text/html": [
              "<div>\n",
              "<style scoped>\n",
              "    .dataframe tbody tr th:only-of-type {\n",
              "        vertical-align: middle;\n",
              "    }\n",
              "\n",
              "    .dataframe tbody tr th {\n",
              "        vertical-align: top;\n",
              "    }\n",
              "\n",
              "    .dataframe thead th {\n",
              "        text-align: right;\n",
              "    }\n",
              "</style>\n",
              "<table border=\"1\" class=\"dataframe\">\n",
              "  <thead>\n",
              "    <tr style=\"text-align: right;\">\n",
              "      <th></th>\n",
              "      <th>Name</th>\n",
              "      <th>Job Titles</th>\n",
              "      <th>Department</th>\n",
              "      <th>Full or Part-Time</th>\n",
              "      <th>Salary or Hourly</th>\n",
              "      <th>Typical Hours</th>\n",
              "      <th>Annual Salary</th>\n",
              "      <th>Hourly Rate</th>\n",
              "    </tr>\n",
              "  </thead>\n",
              "  <tbody>\n",
              "    <tr>\n",
              "      <th>0</th>\n",
              "      <td>ALLISON,  PAUL W</td>\n",
              "      <td>LIEUTENANT</td>\n",
              "      <td>FIRE</td>\n",
              "      <td>F</td>\n",
              "      <td>Salary</td>\n",
              "      <td>NaN</td>\n",
              "      <td>$107790.00</td>\n",
              "      <td>NaN</td>\n",
              "    </tr>\n",
              "    <tr>\n",
              "      <th>1</th>\n",
              "      <td>BRUNO,  KEVIN D</td>\n",
              "      <td>SERGEANT</td>\n",
              "      <td>POLICE</td>\n",
              "      <td>F</td>\n",
              "      <td>Salary</td>\n",
              "      <td>NaN</td>\n",
              "      <td>$104628.00</td>\n",
              "      <td>NaN</td>\n",
              "    </tr>\n",
              "    <tr>\n",
              "      <th>2</th>\n",
              "      <td>COOPER,  JOHN E</td>\n",
              "      <td>LIEUTENANT-EMT</td>\n",
              "      <td>FIRE</td>\n",
              "      <td>F</td>\n",
              "      <td>Salary</td>\n",
              "      <td>NaN</td>\n",
              "      <td>$114324.00</td>\n",
              "      <td>NaN</td>\n",
              "    </tr>\n",
              "    <tr>\n",
              "      <th>3</th>\n",
              "      <td>CRESPO,  VILMA I</td>\n",
              "      <td>STAFF ASST</td>\n",
              "      <td>LAW</td>\n",
              "      <td>F</td>\n",
              "      <td>Salary</td>\n",
              "      <td>NaN</td>\n",
              "      <td>$76932.00</td>\n",
              "      <td>NaN</td>\n",
              "    </tr>\n",
              "    <tr>\n",
              "      <th>4</th>\n",
              "      <td>DOLAN,  ROBERT J</td>\n",
              "      <td>SERGEANT</td>\n",
              "      <td>POLICE</td>\n",
              "      <td>F</td>\n",
              "      <td>Salary</td>\n",
              "      <td>NaN</td>\n",
              "      <td>$111474.00</td>\n",
              "      <td>NaN</td>\n",
              "    </tr>\n",
              "    <tr>\n",
              "      <th>...</th>\n",
              "      <td>...</td>\n",
              "      <td>...</td>\n",
              "      <td>...</td>\n",
              "      <td>...</td>\n",
              "      <td>...</td>\n",
              "      <td>...</td>\n",
              "      <td>...</td>\n",
              "      <td>...</td>\n",
              "    </tr>\n",
              "    <tr>\n",
              "      <th>32653</th>\n",
              "      <td>ZYGOWICZ,  PETER J</td>\n",
              "      <td>POLICE OFFICER</td>\n",
              "      <td>POLICE</td>\n",
              "      <td>F</td>\n",
              "      <td>Salary</td>\n",
              "      <td>NaN</td>\n",
              "      <td>$90024.00</td>\n",
              "      <td>NaN</td>\n",
              "    </tr>\n",
              "    <tr>\n",
              "      <th>32654</th>\n",
              "      <td>ZYLINSKA,  KATARZYNA</td>\n",
              "      <td>POLICE OFFICER</td>\n",
              "      <td>POLICE</td>\n",
              "      <td>F</td>\n",
              "      <td>Salary</td>\n",
              "      <td>NaN</td>\n",
              "      <td>$48078.00</td>\n",
              "      <td>NaN</td>\n",
              "    </tr>\n",
              "    <tr>\n",
              "      <th>32655</th>\n",
              "      <td>ZYMANTAS,  MARK E</td>\n",
              "      <td>POLICE OFFICER</td>\n",
              "      <td>POLICE</td>\n",
              "      <td>F</td>\n",
              "      <td>Salary</td>\n",
              "      <td>NaN</td>\n",
              "      <td>$87006.00</td>\n",
              "      <td>NaN</td>\n",
              "    </tr>\n",
              "    <tr>\n",
              "      <th>32656</th>\n",
              "      <td>ZYRKOWSKI,  CARLO E</td>\n",
              "      <td>POLICE OFFICER</td>\n",
              "      <td>POLICE</td>\n",
              "      <td>F</td>\n",
              "      <td>Salary</td>\n",
              "      <td>NaN</td>\n",
              "      <td>$93354.00</td>\n",
              "      <td>NaN</td>\n",
              "    </tr>\n",
              "    <tr>\n",
              "      <th>32657</th>\n",
              "      <td>ZYSKOWSKI,  DARIUSZ</td>\n",
              "      <td>CHIEF DATA BASE ANALYST</td>\n",
              "      <td>DoIT</td>\n",
              "      <td>F</td>\n",
              "      <td>Salary</td>\n",
              "      <td>NaN</td>\n",
              "      <td>$115932.00</td>\n",
              "      <td>NaN</td>\n",
              "    </tr>\n",
              "  </tbody>\n",
              "</table>\n",
              "<p>32658 rows × 8 columns</p>\n",
              "</div>"
            ],
            "text/plain": [
              "                        Name               Job Titles Department  \\\n",
              "0           ALLISON,  PAUL W               LIEUTENANT       FIRE   \n",
              "1            BRUNO,  KEVIN D                 SERGEANT     POLICE   \n",
              "2            COOPER,  JOHN E           LIEUTENANT-EMT       FIRE   \n",
              "3           CRESPO,  VILMA I               STAFF ASST        LAW   \n",
              "4           DOLAN,  ROBERT J                 SERGEANT     POLICE   \n",
              "...                      ...                      ...        ...   \n",
              "32653     ZYGOWICZ,  PETER J           POLICE OFFICER     POLICE   \n",
              "32654  ZYLINSKA,  KATARZYNA            POLICE OFFICER     POLICE   \n",
              "32655      ZYMANTAS,  MARK E           POLICE OFFICER     POLICE   \n",
              "32656    ZYRKOWSKI,  CARLO E           POLICE OFFICER     POLICE   \n",
              "32657   ZYSKOWSKI,  DARIUSZ   CHIEF DATA BASE ANALYST       DoIT   \n",
              "\n",
              "      Full or Part-Time Salary or Hourly  Typical Hours Annual Salary  \\\n",
              "0                     F           Salary            NaN    $107790.00   \n",
              "1                     F           Salary            NaN    $104628.00   \n",
              "2                     F           Salary            NaN    $114324.00   \n",
              "3                     F           Salary            NaN     $76932.00   \n",
              "4                     F           Salary            NaN    $111474.00   \n",
              "...                 ...              ...            ...           ...   \n",
              "32653                 F           Salary            NaN     $90024.00   \n",
              "32654                 F           Salary            NaN     $48078.00   \n",
              "32655                 F           Salary            NaN     $87006.00   \n",
              "32656                 F           Salary            NaN     $93354.00   \n",
              "32657                 F           Salary            NaN    $115932.00   \n",
              "\n",
              "      Hourly Rate  \n",
              "0             NaN  \n",
              "1             NaN  \n",
              "2             NaN  \n",
              "3             NaN  \n",
              "4             NaN  \n",
              "...           ...  \n",
              "32653         NaN  \n",
              "32654         NaN  \n",
              "32655         NaN  \n",
              "32656         NaN  \n",
              "32657         NaN  \n",
              "\n",
              "[32658 rows x 8 columns]"
            ]
          },
          "execution_count": 32,
          "metadata": {},
          "output_type": "execute_result"
        }
      ],
      "source": [
        "pay"
      ]
    },
    {
      "cell_type": "code",
      "execution_count": null,
      "metadata": {
        "id": "TMC8YTQFoH6m"
      },
      "outputs": [],
      "source": [
        "pay['Salary'] = pay['Annual Salary'].str.replace('$', '').astype(float)"
      ]
    },
    {
      "cell_type": "code",
      "execution_count": null,
      "metadata": {
        "id": "ApQlZfiyoH6m",
        "outputId": "a0aed6bd-ba4e-4678-93e4-c5e4d2744f09"
      },
      "outputs": [
        {
          "data": {
            "text/html": [
              "<div>\n",
              "<style scoped>\n",
              "    .dataframe tbody tr th:only-of-type {\n",
              "        vertical-align: middle;\n",
              "    }\n",
              "\n",
              "    .dataframe tbody tr th {\n",
              "        vertical-align: top;\n",
              "    }\n",
              "\n",
              "    .dataframe thead th {\n",
              "        text-align: right;\n",
              "    }\n",
              "</style>\n",
              "<table border=\"1\" class=\"dataframe\">\n",
              "  <thead>\n",
              "    <tr style=\"text-align: right;\">\n",
              "      <th></th>\n",
              "      <th>Name</th>\n",
              "      <th>Job Titles</th>\n",
              "      <th>Department</th>\n",
              "      <th>Full or Part-Time</th>\n",
              "      <th>Salary or Hourly</th>\n",
              "      <th>Typical Hours</th>\n",
              "      <th>Annual Salary</th>\n",
              "      <th>Hourly Rate</th>\n",
              "      <th>Salary</th>\n",
              "    </tr>\n",
              "  </thead>\n",
              "  <tbody>\n",
              "    <tr>\n",
              "      <th>0</th>\n",
              "      <td>ALLISON,  PAUL W</td>\n",
              "      <td>LIEUTENANT</td>\n",
              "      <td>FIRE</td>\n",
              "      <td>F</td>\n",
              "      <td>Salary</td>\n",
              "      <td>NaN</td>\n",
              "      <td>$107790.00</td>\n",
              "      <td>NaN</td>\n",
              "      <td>107790.0</td>\n",
              "    </tr>\n",
              "    <tr>\n",
              "      <th>1</th>\n",
              "      <td>BRUNO,  KEVIN D</td>\n",
              "      <td>SERGEANT</td>\n",
              "      <td>POLICE</td>\n",
              "      <td>F</td>\n",
              "      <td>Salary</td>\n",
              "      <td>NaN</td>\n",
              "      <td>$104628.00</td>\n",
              "      <td>NaN</td>\n",
              "      <td>104628.0</td>\n",
              "    </tr>\n",
              "    <tr>\n",
              "      <th>2</th>\n",
              "      <td>COOPER,  JOHN E</td>\n",
              "      <td>LIEUTENANT-EMT</td>\n",
              "      <td>FIRE</td>\n",
              "      <td>F</td>\n",
              "      <td>Salary</td>\n",
              "      <td>NaN</td>\n",
              "      <td>$114324.00</td>\n",
              "      <td>NaN</td>\n",
              "      <td>114324.0</td>\n",
              "    </tr>\n",
              "    <tr>\n",
              "      <th>3</th>\n",
              "      <td>CRESPO,  VILMA I</td>\n",
              "      <td>STAFF ASST</td>\n",
              "      <td>LAW</td>\n",
              "      <td>F</td>\n",
              "      <td>Salary</td>\n",
              "      <td>NaN</td>\n",
              "      <td>$76932.00</td>\n",
              "      <td>NaN</td>\n",
              "      <td>76932.0</td>\n",
              "    </tr>\n",
              "    <tr>\n",
              "      <th>4</th>\n",
              "      <td>DOLAN,  ROBERT J</td>\n",
              "      <td>SERGEANT</td>\n",
              "      <td>POLICE</td>\n",
              "      <td>F</td>\n",
              "      <td>Salary</td>\n",
              "      <td>NaN</td>\n",
              "      <td>$111474.00</td>\n",
              "      <td>NaN</td>\n",
              "      <td>111474.0</td>\n",
              "    </tr>\n",
              "    <tr>\n",
              "      <th>...</th>\n",
              "      <td>...</td>\n",
              "      <td>...</td>\n",
              "      <td>...</td>\n",
              "      <td>...</td>\n",
              "      <td>...</td>\n",
              "      <td>...</td>\n",
              "      <td>...</td>\n",
              "      <td>...</td>\n",
              "      <td>...</td>\n",
              "    </tr>\n",
              "    <tr>\n",
              "      <th>32653</th>\n",
              "      <td>ZYGOWICZ,  PETER J</td>\n",
              "      <td>POLICE OFFICER</td>\n",
              "      <td>POLICE</td>\n",
              "      <td>F</td>\n",
              "      <td>Salary</td>\n",
              "      <td>NaN</td>\n",
              "      <td>$90024.00</td>\n",
              "      <td>NaN</td>\n",
              "      <td>90024.0</td>\n",
              "    </tr>\n",
              "    <tr>\n",
              "      <th>32654</th>\n",
              "      <td>ZYLINSKA,  KATARZYNA</td>\n",
              "      <td>POLICE OFFICER</td>\n",
              "      <td>POLICE</td>\n",
              "      <td>F</td>\n",
              "      <td>Salary</td>\n",
              "      <td>NaN</td>\n",
              "      <td>$48078.00</td>\n",
              "      <td>NaN</td>\n",
              "      <td>48078.0</td>\n",
              "    </tr>\n",
              "    <tr>\n",
              "      <th>32655</th>\n",
              "      <td>ZYMANTAS,  MARK E</td>\n",
              "      <td>POLICE OFFICER</td>\n",
              "      <td>POLICE</td>\n",
              "      <td>F</td>\n",
              "      <td>Salary</td>\n",
              "      <td>NaN</td>\n",
              "      <td>$87006.00</td>\n",
              "      <td>NaN</td>\n",
              "      <td>87006.0</td>\n",
              "    </tr>\n",
              "    <tr>\n",
              "      <th>32656</th>\n",
              "      <td>ZYRKOWSKI,  CARLO E</td>\n",
              "      <td>POLICE OFFICER</td>\n",
              "      <td>POLICE</td>\n",
              "      <td>F</td>\n",
              "      <td>Salary</td>\n",
              "      <td>NaN</td>\n",
              "      <td>$93354.00</td>\n",
              "      <td>NaN</td>\n",
              "      <td>93354.0</td>\n",
              "    </tr>\n",
              "    <tr>\n",
              "      <th>32657</th>\n",
              "      <td>ZYSKOWSKI,  DARIUSZ</td>\n",
              "      <td>CHIEF DATA BASE ANALYST</td>\n",
              "      <td>DoIT</td>\n",
              "      <td>F</td>\n",
              "      <td>Salary</td>\n",
              "      <td>NaN</td>\n",
              "      <td>$115932.00</td>\n",
              "      <td>NaN</td>\n",
              "      <td>115932.0</td>\n",
              "    </tr>\n",
              "  </tbody>\n",
              "</table>\n",
              "<p>32658 rows × 9 columns</p>\n",
              "</div>"
            ],
            "text/plain": [
              "                        Name               Job Titles Department  \\\n",
              "0           ALLISON,  PAUL W               LIEUTENANT       FIRE   \n",
              "1            BRUNO,  KEVIN D                 SERGEANT     POLICE   \n",
              "2            COOPER,  JOHN E           LIEUTENANT-EMT       FIRE   \n",
              "3           CRESPO,  VILMA I               STAFF ASST        LAW   \n",
              "4           DOLAN,  ROBERT J                 SERGEANT     POLICE   \n",
              "...                      ...                      ...        ...   \n",
              "32653     ZYGOWICZ,  PETER J           POLICE OFFICER     POLICE   \n",
              "32654  ZYLINSKA,  KATARZYNA            POLICE OFFICER     POLICE   \n",
              "32655      ZYMANTAS,  MARK E           POLICE OFFICER     POLICE   \n",
              "32656    ZYRKOWSKI,  CARLO E           POLICE OFFICER     POLICE   \n",
              "32657   ZYSKOWSKI,  DARIUSZ   CHIEF DATA BASE ANALYST       DoIT   \n",
              "\n",
              "      Full or Part-Time Salary or Hourly  Typical Hours Annual Salary  \\\n",
              "0                     F           Salary            NaN    $107790.00   \n",
              "1                     F           Salary            NaN    $104628.00   \n",
              "2                     F           Salary            NaN    $114324.00   \n",
              "3                     F           Salary            NaN     $76932.00   \n",
              "4                     F           Salary            NaN    $111474.00   \n",
              "...                 ...              ...            ...           ...   \n",
              "32653                 F           Salary            NaN     $90024.00   \n",
              "32654                 F           Salary            NaN     $48078.00   \n",
              "32655                 F           Salary            NaN     $87006.00   \n",
              "32656                 F           Salary            NaN     $93354.00   \n",
              "32657                 F           Salary            NaN    $115932.00   \n",
              "\n",
              "      Hourly Rate    Salary  \n",
              "0             NaN  107790.0  \n",
              "1             NaN  104628.0  \n",
              "2             NaN  114324.0  \n",
              "3             NaN   76932.0  \n",
              "4             NaN  111474.0  \n",
              "...           ...       ...  \n",
              "32653         NaN   90024.0  \n",
              "32654         NaN   48078.0  \n",
              "32655         NaN   87006.0  \n",
              "32656         NaN   93354.0  \n",
              "32657         NaN  115932.0  \n",
              "\n",
              "[32658 rows x 9 columns]"
            ]
          },
          "execution_count": 36,
          "metadata": {},
          "output_type": "execute_result"
        }
      ],
      "source": [
        "pay"
      ]
    },
    {
      "cell_type": "code",
      "execution_count": null,
      "metadata": {
        "id": "LOE6YO9aoH6m",
        "outputId": "2c8fe3e6-616b-4b0e-e4eb-612775fb58cf"
      },
      "outputs": [
        {
          "name": "stdout",
          "output_type": "stream",
          "text": [
            "min Salary : 0.96\n",
            "max Salary : 300000.0\n",
            "mean Salary : 87512.78024137235\n"
          ]
        }
      ],
      "source": [
        "print('min Salary :', pay['Salary'].min())\n",
        "print('max Salary :', pay['Salary'].max())\n",
        "print('mean Salary :', pay['Salary'].mean())"
      ]
    },
    {
      "cell_type": "markdown",
      "metadata": {
        "id": "t1ELp40NoH6m"
      },
      "source": [
        "**11. Find an employee who has the maximum salary.**<br>\n",
        "Don't use the max number you got above, write a code for general condition. <br>\n",
        "Try with [<code>idxmax()</code>](https://pandas.pydata.org/pandas-docs/stable/generated/pandas.DataFrame.idxmax.html) as well!"
      ]
    },
    {
      "cell_type": "code",
      "execution_count": null,
      "metadata": {
        "scrolled": false,
        "id": "1uIFZo9coH6m",
        "outputId": "367d4c58-7421-4f5e-b474-eb39623ad8ab"
      },
      "outputs": [
        {
          "data": {
            "text/plain": [
              "8310    EVANS,  GINGER S\n",
              "Name: Name, dtype: object"
            ]
          },
          "execution_count": 39,
          "metadata": {},
          "output_type": "execute_result"
        }
      ],
      "source": [
        "pay[pay['Salary'] == pay['Salary'].max()]['Name']"
      ]
    },
    {
      "cell_type": "markdown",
      "metadata": {
        "id": "CSpnt6sOoH6n"
      },
      "source": [
        "**12. Find an employee who has the minimum salary.**<br>\n",
        "Use [<code>idxmin()</code>](https://pandas.pydata.org/pandas-docs/stable/generated/pandas.DataFrame.idxmin.html) as well!"
      ]
    },
    {
      "cell_type": "code",
      "execution_count": null,
      "metadata": {
        "id": "rwdXe44QoH6p",
        "outputId": "32810f69-30e6-495e-83d9-e4db49406f09"
      },
      "outputs": [
        {
          "data": {
            "text/plain": [
              "15387    KOCH,  STEVEN \n",
              "Name: Name, dtype: object"
            ]
          },
          "execution_count": 41,
          "metadata": {},
          "output_type": "execute_result"
        }
      ],
      "source": [
        "pay[pay['Salary'] == pay['Salary'].min()]['Name']"
      ]
    },
    {
      "cell_type": "code",
      "execution_count": null,
      "metadata": {
        "id": "iKdQNWhuoH6p",
        "outputId": "4bd37712-7946-416e-bae9-cca0d288d8f9"
      },
      "outputs": [
        {
          "data": {
            "text/plain": [
              "0        107790.0\n",
              "1        104628.0\n",
              "2        114324.0\n",
              "3         76932.0\n",
              "4        111474.0\n",
              "           ...   \n",
              "32653     90024.0\n",
              "32654     48078.0\n",
              "32655     87006.0\n",
              "32656     93354.0\n",
              "32657    115932.0\n",
              "Name: Salary, Length: 32658, dtype: float64"
            ]
          },
          "execution_count": 42,
          "metadata": {},
          "output_type": "execute_result"
        }
      ],
      "source": [
        "pay['Salary']"
      ]
    },
    {
      "cell_type": "code",
      "execution_count": null,
      "metadata": {
        "id": "-MQ-R9MfoH6q",
        "outputId": "6c11f80c-ef1a-4eb4-c068-d71c3baf4860"
      },
      "outputs": [
        {
          "data": {
            "text/plain": [
              "15387"
            ]
          },
          "execution_count": 43,
          "metadata": {},
          "output_type": "execute_result"
        }
      ],
      "source": [
        "pay['Salary'].idxmin()"
      ]
    },
    {
      "cell_type": "code",
      "execution_count": null,
      "metadata": {
        "scrolled": true,
        "id": "DSwf925noH6q",
        "outputId": "e11b74ca-cce9-4fed-e43b-be70d9eb4280"
      },
      "outputs": [
        {
          "data": {
            "text/plain": [
              "'KOCH,  STEVEN '"
            ]
          },
          "execution_count": 45,
          "metadata": {},
          "output_type": "execute_result"
        }
      ],
      "source": [
        "pay.iloc[15387]['Name']"
      ]
    },
    {
      "cell_type": "code",
      "execution_count": null,
      "metadata": {
        "id": "LF2oYpxioH6q",
        "outputId": "5b9b0b1a-8196-41ab-9e1f-ab68cd3bb49e"
      },
      "outputs": [
        {
          "data": {
            "text/plain": [
              "'KOCH,  STEVEN '"
            ]
          },
          "execution_count": 46,
          "metadata": {},
          "output_type": "execute_result"
        }
      ],
      "source": [
        "pay.iloc[pay['Salary'].idxmin()]['Name']"
      ]
    },
    {
      "cell_type": "code",
      "execution_count": null,
      "metadata": {
        "id": "gszw3y44oH6w"
      },
      "outputs": [],
      "source": [
        "pay.info()"
      ]
    },
    {
      "cell_type": "code",
      "execution_count": null,
      "metadata": {
        "id": "Xx77U8_moH6w"
      },
      "outputs": [],
      "source": [
        "pay"
      ]
    },
    {
      "cell_type": "markdown",
      "metadata": {
        "collapsed": true,
        "id": "0-iL5KXxoH6x"
      },
      "source": [
        "**13. What are the mean, max and min Hourly Rate?**<br>\n",
        "use <code>.str and replace()</code><br>\n",
        "Hint:\n",
        "Once again, create a new column name \"H_Rate\" and separate the number from dollar sign as float .<br>"
      ]
    },
    {
      "cell_type": "code",
      "execution_count": null,
      "metadata": {
        "id": "M96KeUWXoH6x"
      },
      "outputs": [],
      "source": [
        "pay['H_Rate']=pay['Hourly Rate'].str.replace('$', '').astype(float)"
      ]
    },
    {
      "cell_type": "code",
      "execution_count": null,
      "metadata": {
        "scrolled": true,
        "id": "2R_6UVM6oH6x",
        "outputId": "80f55cc5-b0cb-47c1-fea9-2bd6a9c3e1d0"
      },
      "outputs": [
        {
          "data": {
            "text/html": [
              "<div>\n",
              "<style scoped>\n",
              "    .dataframe tbody tr th:only-of-type {\n",
              "        vertical-align: middle;\n",
              "    }\n",
              "\n",
              "    .dataframe tbody tr th {\n",
              "        vertical-align: top;\n",
              "    }\n",
              "\n",
              "    .dataframe thead th {\n",
              "        text-align: right;\n",
              "    }\n",
              "</style>\n",
              "<table border=\"1\" class=\"dataframe\">\n",
              "  <thead>\n",
              "    <tr style=\"text-align: right;\">\n",
              "      <th></th>\n",
              "      <th>Name</th>\n",
              "      <th>Job Titles</th>\n",
              "      <th>Department</th>\n",
              "      <th>Full or Part-Time</th>\n",
              "      <th>Salary or Hourly</th>\n",
              "      <th>Typical Hours</th>\n",
              "      <th>Annual Salary</th>\n",
              "      <th>Hourly Rate</th>\n",
              "      <th>Salary</th>\n",
              "      <th>H_Rate</th>\n",
              "    </tr>\n",
              "  </thead>\n",
              "  <tbody>\n",
              "    <tr>\n",
              "      <th>0</th>\n",
              "      <td>ALLISON,  PAUL W</td>\n",
              "      <td>LIEUTENANT</td>\n",
              "      <td>FIRE</td>\n",
              "      <td>F</td>\n",
              "      <td>Salary</td>\n",
              "      <td>NaN</td>\n",
              "      <td>$107790.00</td>\n",
              "      <td>NaN</td>\n",
              "      <td>107790.0</td>\n",
              "      <td>NaN</td>\n",
              "    </tr>\n",
              "    <tr>\n",
              "      <th>1</th>\n",
              "      <td>BRUNO,  KEVIN D</td>\n",
              "      <td>SERGEANT</td>\n",
              "      <td>POLICE</td>\n",
              "      <td>F</td>\n",
              "      <td>Salary</td>\n",
              "      <td>NaN</td>\n",
              "      <td>$104628.00</td>\n",
              "      <td>NaN</td>\n",
              "      <td>104628.0</td>\n",
              "      <td>NaN</td>\n",
              "    </tr>\n",
              "    <tr>\n",
              "      <th>2</th>\n",
              "      <td>COOPER,  JOHN E</td>\n",
              "      <td>LIEUTENANT-EMT</td>\n",
              "      <td>FIRE</td>\n",
              "      <td>F</td>\n",
              "      <td>Salary</td>\n",
              "      <td>NaN</td>\n",
              "      <td>$114324.00</td>\n",
              "      <td>NaN</td>\n",
              "      <td>114324.0</td>\n",
              "      <td>NaN</td>\n",
              "    </tr>\n",
              "    <tr>\n",
              "      <th>3</th>\n",
              "      <td>CRESPO,  VILMA I</td>\n",
              "      <td>STAFF ASST</td>\n",
              "      <td>LAW</td>\n",
              "      <td>F</td>\n",
              "      <td>Salary</td>\n",
              "      <td>NaN</td>\n",
              "      <td>$76932.00</td>\n",
              "      <td>NaN</td>\n",
              "      <td>76932.0</td>\n",
              "      <td>NaN</td>\n",
              "    </tr>\n",
              "    <tr>\n",
              "      <th>4</th>\n",
              "      <td>DOLAN,  ROBERT J</td>\n",
              "      <td>SERGEANT</td>\n",
              "      <td>POLICE</td>\n",
              "      <td>F</td>\n",
              "      <td>Salary</td>\n",
              "      <td>NaN</td>\n",
              "      <td>$111474.00</td>\n",
              "      <td>NaN</td>\n",
              "      <td>111474.0</td>\n",
              "      <td>NaN</td>\n",
              "    </tr>\n",
              "    <tr>\n",
              "      <th>...</th>\n",
              "      <td>...</td>\n",
              "      <td>...</td>\n",
              "      <td>...</td>\n",
              "      <td>...</td>\n",
              "      <td>...</td>\n",
              "      <td>...</td>\n",
              "      <td>...</td>\n",
              "      <td>...</td>\n",
              "      <td>...</td>\n",
              "      <td>...</td>\n",
              "    </tr>\n",
              "    <tr>\n",
              "      <th>32653</th>\n",
              "      <td>ZYGOWICZ,  PETER J</td>\n",
              "      <td>POLICE OFFICER</td>\n",
              "      <td>POLICE</td>\n",
              "      <td>F</td>\n",
              "      <td>Salary</td>\n",
              "      <td>NaN</td>\n",
              "      <td>$90024.00</td>\n",
              "      <td>NaN</td>\n",
              "      <td>90024.0</td>\n",
              "      <td>NaN</td>\n",
              "    </tr>\n",
              "    <tr>\n",
              "      <th>32654</th>\n",
              "      <td>ZYLINSKA,  KATARZYNA</td>\n",
              "      <td>POLICE OFFICER</td>\n",
              "      <td>POLICE</td>\n",
              "      <td>F</td>\n",
              "      <td>Salary</td>\n",
              "      <td>NaN</td>\n",
              "      <td>$48078.00</td>\n",
              "      <td>NaN</td>\n",
              "      <td>48078.0</td>\n",
              "      <td>NaN</td>\n",
              "    </tr>\n",
              "    <tr>\n",
              "      <th>32655</th>\n",
              "      <td>ZYMANTAS,  MARK E</td>\n",
              "      <td>POLICE OFFICER</td>\n",
              "      <td>POLICE</td>\n",
              "      <td>F</td>\n",
              "      <td>Salary</td>\n",
              "      <td>NaN</td>\n",
              "      <td>$87006.00</td>\n",
              "      <td>NaN</td>\n",
              "      <td>87006.0</td>\n",
              "      <td>NaN</td>\n",
              "    </tr>\n",
              "    <tr>\n",
              "      <th>32656</th>\n",
              "      <td>ZYRKOWSKI,  CARLO E</td>\n",
              "      <td>POLICE OFFICER</td>\n",
              "      <td>POLICE</td>\n",
              "      <td>F</td>\n",
              "      <td>Salary</td>\n",
              "      <td>NaN</td>\n",
              "      <td>$93354.00</td>\n",
              "      <td>NaN</td>\n",
              "      <td>93354.0</td>\n",
              "      <td>NaN</td>\n",
              "    </tr>\n",
              "    <tr>\n",
              "      <th>32657</th>\n",
              "      <td>ZYSKOWSKI,  DARIUSZ</td>\n",
              "      <td>CHIEF DATA BASE ANALYST</td>\n",
              "      <td>DoIT</td>\n",
              "      <td>F</td>\n",
              "      <td>Salary</td>\n",
              "      <td>NaN</td>\n",
              "      <td>$115932.00</td>\n",
              "      <td>NaN</td>\n",
              "      <td>115932.0</td>\n",
              "      <td>NaN</td>\n",
              "    </tr>\n",
              "  </tbody>\n",
              "</table>\n",
              "<p>32658 rows × 10 columns</p>\n",
              "</div>"
            ],
            "text/plain": [
              "                        Name               Job Titles Department  \\\n",
              "0           ALLISON,  PAUL W               LIEUTENANT       FIRE   \n",
              "1            BRUNO,  KEVIN D                 SERGEANT     POLICE   \n",
              "2            COOPER,  JOHN E           LIEUTENANT-EMT       FIRE   \n",
              "3           CRESPO,  VILMA I               STAFF ASST        LAW   \n",
              "4           DOLAN,  ROBERT J                 SERGEANT     POLICE   \n",
              "...                      ...                      ...        ...   \n",
              "32653     ZYGOWICZ,  PETER J           POLICE OFFICER     POLICE   \n",
              "32654  ZYLINSKA,  KATARZYNA            POLICE OFFICER     POLICE   \n",
              "32655      ZYMANTAS,  MARK E           POLICE OFFICER     POLICE   \n",
              "32656    ZYRKOWSKI,  CARLO E           POLICE OFFICER     POLICE   \n",
              "32657   ZYSKOWSKI,  DARIUSZ   CHIEF DATA BASE ANALYST       DoIT   \n",
              "\n",
              "      Full or Part-Time Salary or Hourly  Typical Hours Annual Salary  \\\n",
              "0                     F           Salary            NaN    $107790.00   \n",
              "1                     F           Salary            NaN    $104628.00   \n",
              "2                     F           Salary            NaN    $114324.00   \n",
              "3                     F           Salary            NaN     $76932.00   \n",
              "4                     F           Salary            NaN    $111474.00   \n",
              "...                 ...              ...            ...           ...   \n",
              "32653                 F           Salary            NaN     $90024.00   \n",
              "32654                 F           Salary            NaN     $48078.00   \n",
              "32655                 F           Salary            NaN     $87006.00   \n",
              "32656                 F           Salary            NaN     $93354.00   \n",
              "32657                 F           Salary            NaN    $115932.00   \n",
              "\n",
              "      Hourly Rate    Salary  H_Rate  \n",
              "0             NaN  107790.0     NaN  \n",
              "1             NaN  104628.0     NaN  \n",
              "2             NaN  114324.0     NaN  \n",
              "3             NaN   76932.0     NaN  \n",
              "4             NaN  111474.0     NaN  \n",
              "...           ...       ...     ...  \n",
              "32653         NaN   90024.0     NaN  \n",
              "32654         NaN   48078.0     NaN  \n",
              "32655         NaN   87006.0     NaN  \n",
              "32656         NaN   93354.0     NaN  \n",
              "32657         NaN  115932.0     NaN  \n",
              "\n",
              "[32658 rows x 10 columns]"
            ]
          },
          "execution_count": 48,
          "metadata": {},
          "output_type": "execute_result"
        }
      ],
      "source": [
        "pay"
      ]
    },
    {
      "cell_type": "code",
      "execution_count": null,
      "metadata": {
        "id": "q6jnqJtyoH6x",
        "outputId": "f5c0d0b5-3f9a-4e4f-9ba9-0cae73cb9699"
      },
      "outputs": [
        {
          "name": "stdout",
          "output_type": "stream",
          "text": [
            "min H_Rate : 2.65\n",
            "max H_Rate : 96.0\n",
            "mean H_Rate : 32.86819231257135\n"
          ]
        }
      ],
      "source": [
        "print('min H_Rate :', pay['H_Rate'].min())\n",
        "print('max H_Rate :', pay['H_Rate'].max())\n",
        "print('mean H_Rate :', pay['H_Rate'].mean())"
      ]
    },
    {
      "cell_type": "markdown",
      "metadata": {
        "id": "8TgjL7ODoH6x"
      },
      "source": [
        "**14. How many employees are getting max Hourly Rate?**"
      ]
    },
    {
      "cell_type": "code",
      "execution_count": null,
      "metadata": {
        "id": "cipR_a5UoH6x",
        "outputId": "5785c6a1-8a35-40df-c2c3-722b7bf364cb"
      },
      "outputs": [
        {
          "data": {
            "text/plain": [
              "1"
            ]
          },
          "execution_count": 50,
          "metadata": {},
          "output_type": "execute_result"
        }
      ],
      "source": [
        "pay[pay['H_Rate']==pay['H_Rate'].max()].count()['Name']"
      ]
    },
    {
      "cell_type": "markdown",
      "metadata": {
        "id": "nRD6CHLzoH6y"
      },
      "source": [
        "**15. Who is getting max Hourly Rate?**"
      ]
    },
    {
      "cell_type": "code",
      "execution_count": null,
      "metadata": {
        "id": "wW8jppTzoH6y",
        "outputId": "11f8225e-bfc9-4eaa-c8b2-1ec5c78f6cd7"
      },
      "outputs": [
        {
          "data": {
            "text/html": [
              "<div>\n",
              "<style scoped>\n",
              "    .dataframe tbody tr th:only-of-type {\n",
              "        vertical-align: middle;\n",
              "    }\n",
              "\n",
              "    .dataframe tbody tr th {\n",
              "        vertical-align: top;\n",
              "    }\n",
              "\n",
              "    .dataframe thead th {\n",
              "        text-align: right;\n",
              "    }\n",
              "</style>\n",
              "<table border=\"1\" class=\"dataframe\">\n",
              "  <thead>\n",
              "    <tr style=\"text-align: right;\">\n",
              "      <th></th>\n",
              "      <th>Name</th>\n",
              "      <th>Job Titles</th>\n",
              "      <th>Department</th>\n",
              "      <th>Full or Part-Time</th>\n",
              "      <th>Salary or Hourly</th>\n",
              "      <th>Typical Hours</th>\n",
              "      <th>Annual Salary</th>\n",
              "      <th>Hourly Rate</th>\n",
              "      <th>Salary</th>\n",
              "      <th>H_Rate</th>\n",
              "    </tr>\n",
              "  </thead>\n",
              "  <tbody>\n",
              "    <tr>\n",
              "      <th>14317</th>\n",
              "      <td>JONES,  JOHN W</td>\n",
              "      <td>PSYCHIATRIST</td>\n",
              "      <td>HEALTH</td>\n",
              "      <td>F</td>\n",
              "      <td>Hourly</td>\n",
              "      <td>35.0</td>\n",
              "      <td>NaN</td>\n",
              "      <td>$96.00</td>\n",
              "      <td>NaN</td>\n",
              "      <td>96.0</td>\n",
              "    </tr>\n",
              "  </tbody>\n",
              "</table>\n",
              "</div>"
            ],
            "text/plain": [
              "                 Name    Job Titles Department Full or Part-Time  \\\n",
              "14317  JONES,  JOHN W  PSYCHIATRIST     HEALTH                 F   \n",
              "\n",
              "      Salary or Hourly  Typical Hours Annual Salary Hourly Rate  Salary  \\\n",
              "14317           Hourly           35.0           NaN      $96.00     NaN   \n",
              "\n",
              "       H_Rate  \n",
              "14317    96.0  "
            ]
          },
          "execution_count": 51,
          "metadata": {},
          "output_type": "execute_result"
        }
      ],
      "source": [
        "pay[pay['H_Rate']==pay['H_Rate'].max()]"
      ]
    },
    {
      "cell_type": "code",
      "execution_count": null,
      "metadata": {
        "id": "tTFgg8rNoH6y",
        "outputId": "4ad3dd99-59d5-4010-9421-a2da75e3939d"
      },
      "outputs": [
        {
          "data": {
            "text/plain": [
              "Name                 JONES,  JOHN W\n",
              "Job Titles             PSYCHIATRIST\n",
              "Department                   HEALTH\n",
              "Full or Part-Time                 F\n",
              "Salary or Hourly             Hourly\n",
              "Typical Hours                  35.0\n",
              "Annual Salary                   NaN\n",
              "Hourly Rate                  $96.00\n",
              "Salary                          NaN\n",
              "H_Rate                         96.0\n",
              "Name: 14317, dtype: object"
            ]
          },
          "execution_count": 52,
          "metadata": {},
          "output_type": "execute_result"
        }
      ],
      "source": [
        "pay.iloc[pay['H_Rate'].idxmax()]"
      ]
    },
    {
      "cell_type": "markdown",
      "metadata": {
        "id": "gPSQ4evboH6y"
      },
      "source": [
        "**16. How many employees are earning less than the average Hourly Rate?**"
      ]
    },
    {
      "cell_type": "code",
      "execution_count": null,
      "metadata": {
        "id": "5Pluzi2HoH6y",
        "outputId": "001e8073-e29d-43e5-fcba-6866414eb7f9"
      },
      "outputs": [
        {
          "data": {
            "text/plain": [
              "2791"
            ]
          },
          "execution_count": 56,
          "metadata": {},
          "output_type": "execute_result"
        }
      ],
      "source": [
        "pay[pay['H_Rate'] < pay['H_Rate'].mean()].count()['H_Rate']"
      ]
    },
    {
      "cell_type": "markdown",
      "metadata": {
        "id": "PQUiSn3poH6z"
      },
      "source": [
        "**17. How many employees are paid hourly and they have full-time job?**"
      ]
    },
    {
      "cell_type": "code",
      "execution_count": null,
      "metadata": {
        "id": "v68Bft6-oH6z",
        "outputId": "2a2c7049-698b-4e95-eba1-fcd345ffbd9a"
      },
      "outputs": [
        {
          "data": {
            "text/plain": [
              "5906"
            ]
          },
          "execution_count": 59,
          "metadata": {},
          "output_type": "execute_result"
        }
      ],
      "source": [
        "pay[(pay['Salary or Hourly']=='Hourly') & (pay['Full or Part-Time']=='F')].count()['Name']"
      ]
    },
    {
      "cell_type": "code",
      "execution_count": null,
      "metadata": {
        "id": "-EB1FG-YoH6z",
        "outputId": "07fb821d-9b5e-441a-8d1f-47e2ba73aaba"
      },
      "outputs": [
        {
          "data": {
            "text/plain": [
              "5906"
            ]
          },
          "execution_count": 60,
          "metadata": {},
          "output_type": "execute_result"
        }
      ],
      "source": [
        "pay[(pay['Hourly Rate'].notnull()) & (pay['Full or Part-Time']=='F')].count()['Full or Part-Time']"
      ]
    },
    {
      "cell_type": "markdown",
      "metadata": {
        "id": "E6kzymGQoH6z"
      },
      "source": [
        "**18. Find the full-time employees who are working at hourly rate of $10.00?**"
      ]
    },
    {
      "cell_type": "code",
      "execution_count": null,
      "metadata": {
        "id": "yUeLNnVfoH60",
        "outputId": "fa3657f6-03bb-431d-99d7-965af86ba79a"
      },
      "outputs": [
        {
          "data": {
            "text/html": [
              "<div>\n",
              "<style scoped>\n",
              "    .dataframe tbody tr th:only-of-type {\n",
              "        vertical-align: middle;\n",
              "    }\n",
              "\n",
              "    .dataframe tbody tr th {\n",
              "        vertical-align: top;\n",
              "    }\n",
              "\n",
              "    .dataframe thead th {\n",
              "        text-align: right;\n",
              "    }\n",
              "</style>\n",
              "<table border=\"1\" class=\"dataframe\">\n",
              "  <thead>\n",
              "    <tr style=\"text-align: right;\">\n",
              "      <th></th>\n",
              "      <th>Name</th>\n",
              "      <th>Job Titles</th>\n",
              "      <th>Department</th>\n",
              "      <th>Full or Part-Time</th>\n",
              "      <th>Salary or Hourly</th>\n",
              "      <th>Typical Hours</th>\n",
              "      <th>Annual Salary</th>\n",
              "      <th>Hourly Rate</th>\n",
              "      <th>Salary</th>\n",
              "      <th>H_Rate</th>\n",
              "    </tr>\n",
              "  </thead>\n",
              "  <tbody>\n",
              "    <tr>\n",
              "      <th>1232</th>\n",
              "      <td>AYALA JR,  JESUS</td>\n",
              "      <td>STUDENT INTERN</td>\n",
              "      <td>HUMAN RESOURCES</td>\n",
              "      <td>F</td>\n",
              "      <td>Hourly</td>\n",
              "      <td>35.0</td>\n",
              "      <td>NaN</td>\n",
              "      <td>$10.00</td>\n",
              "      <td>NaN</td>\n",
              "      <td>10.0</td>\n",
              "    </tr>\n",
              "    <tr>\n",
              "      <th>4522</th>\n",
              "      <td>CERVANTES,  BIANCA A</td>\n",
              "      <td>STUDENT INTERN</td>\n",
              "      <td>BUDGET &amp; MGMT</td>\n",
              "      <td>F</td>\n",
              "      <td>Hourly</td>\n",
              "      <td>35.0</td>\n",
              "      <td>NaN</td>\n",
              "      <td>$10.00</td>\n",
              "      <td>NaN</td>\n",
              "      <td>10.0</td>\n",
              "    </tr>\n",
              "    <tr>\n",
              "      <th>6476</th>\n",
              "      <td>DAVILA,  ROBERTO A</td>\n",
              "      <td>ALDERMANIC AIDE</td>\n",
              "      <td>CITY COUNCIL</td>\n",
              "      <td>F</td>\n",
              "      <td>Hourly</td>\n",
              "      <td>35.0</td>\n",
              "      <td>NaN</td>\n",
              "      <td>$10.00</td>\n",
              "      <td>NaN</td>\n",
              "      <td>10.0</td>\n",
              "    </tr>\n",
              "    <tr>\n",
              "      <th>16474</th>\n",
              "      <td>LEVY,  ETHAN</td>\n",
              "      <td>CLERK CITY COUNCIL</td>\n",
              "      <td>CITY COUNCIL</td>\n",
              "      <td>F</td>\n",
              "      <td>Hourly</td>\n",
              "      <td>35.0</td>\n",
              "      <td>NaN</td>\n",
              "      <td>$10.00</td>\n",
              "      <td>NaN</td>\n",
              "      <td>10.0</td>\n",
              "    </tr>\n",
              "  </tbody>\n",
              "</table>\n",
              "</div>"
            ],
            "text/plain": [
              "                       Name          Job Titles       Department  \\\n",
              "1232      AYALA JR,  JESUS       STUDENT INTERN  HUMAN RESOURCES   \n",
              "4522   CERVANTES,  BIANCA A      STUDENT INTERN    BUDGET & MGMT   \n",
              "6476     DAVILA,  ROBERTO A     ALDERMANIC AIDE     CITY COUNCIL   \n",
              "16474         LEVY,  ETHAN   CLERK CITY COUNCIL     CITY COUNCIL   \n",
              "\n",
              "      Full or Part-Time Salary or Hourly  Typical Hours Annual Salary  \\\n",
              "1232                  F           Hourly           35.0           NaN   \n",
              "4522                  F           Hourly           35.0           NaN   \n",
              "6476                  F           Hourly           35.0           NaN   \n",
              "16474                 F           Hourly           35.0           NaN   \n",
              "\n",
              "      Hourly Rate  Salary  H_Rate  \n",
              "1232       $10.00     NaN    10.0  \n",
              "4522       $10.00     NaN    10.0  \n",
              "6476       $10.00     NaN    10.0  \n",
              "16474      $10.00     NaN    10.0  "
            ]
          },
          "execution_count": 61,
          "metadata": {},
          "output_type": "execute_result"
        }
      ],
      "source": [
        "pay[(pay['Full or Part-Time']=='F') & (pay['H_Rate']==10)] # or (pay['Hourly Rate']=='$10.00')"
      ]
    },
    {
      "cell_type": "markdown",
      "metadata": {
        "collapsed": true,
        "id": "PGhUTYiroH60"
      },
      "source": [
        "**19. How many unique Job Titles are there in the data?**"
      ]
    },
    {
      "cell_type": "code",
      "execution_count": null,
      "metadata": {
        "id": "BLYH5CwSoH60",
        "outputId": "24a0e65b-bfa6-4a71-9e9c-436833d6c19d"
      },
      "outputs": [
        {
          "data": {
            "text/plain": [
              "1095"
            ]
          },
          "execution_count": 65,
          "metadata": {},
          "output_type": "execute_result"
        }
      ],
      "source": [
        "pay['Job Titles'].nunique()"
      ]
    },
    {
      "cell_type": "markdown",
      "metadata": {
        "id": "a1zFv3H2oH61"
      },
      "source": [
        "**20. What was the average Salary of the employees in each department?**"
      ]
    },
    {
      "cell_type": "code",
      "execution_count": null,
      "metadata": {
        "id": "eDiQfGrfoH61",
        "outputId": "c2569e6e-440a-401d-e85f-4414358b5c95"
      },
      "outputs": [
        {
          "data": {
            "text/html": [
              "<div>\n",
              "<style scoped>\n",
              "    .dataframe tbody tr th:only-of-type {\n",
              "        vertical-align: middle;\n",
              "    }\n",
              "\n",
              "    .dataframe tbody tr th {\n",
              "        vertical-align: top;\n",
              "    }\n",
              "\n",
              "    .dataframe thead th {\n",
              "        text-align: right;\n",
              "    }\n",
              "</style>\n",
              "<table border=\"1\" class=\"dataframe\">\n",
              "  <thead>\n",
              "    <tr style=\"text-align: right;\">\n",
              "      <th></th>\n",
              "      <th>Salary</th>\n",
              "    </tr>\n",
              "    <tr>\n",
              "      <th>Department</th>\n",
              "      <th></th>\n",
              "    </tr>\n",
              "  </thead>\n",
              "  <tbody>\n",
              "    <tr>\n",
              "      <th>ADMIN HEARNG</th>\n",
              "      <td>78912.947368</td>\n",
              "    </tr>\n",
              "    <tr>\n",
              "      <th>ANIMAL CONTRL</th>\n",
              "      <td>66089.684211</td>\n",
              "    </tr>\n",
              "    <tr>\n",
              "      <th>AVIATION</th>\n",
              "      <td>76140.018777</td>\n",
              "    </tr>\n",
              "    <tr>\n",
              "      <th>BOARD OF ELECTION</th>\n",
              "      <td>56051.142857</td>\n",
              "    </tr>\n",
              "    <tr>\n",
              "      <th>BOARD OF ETHICS</th>\n",
              "      <td>94552.500000</td>\n",
              "    </tr>\n",
              "    <tr>\n",
              "      <th>BUDGET &amp; MGMT</th>\n",
              "      <td>93925.395349</td>\n",
              "    </tr>\n",
              "    <tr>\n",
              "      <th>BUILDINGS</th>\n",
              "      <td>98864.833534</td>\n",
              "    </tr>\n",
              "    <tr>\n",
              "      <th>BUSINESS AFFAIRS</th>\n",
              "      <td>80446.425000</td>\n",
              "    </tr>\n",
              "    <tr>\n",
              "      <th>CITY CLERK</th>\n",
              "      <td>69762.439024</td>\n",
              "    </tr>\n",
              "    <tr>\n",
              "      <th>CITY COUNCIL</th>\n",
              "      <td>63577.172069</td>\n",
              "    </tr>\n",
              "    <tr>\n",
              "      <th>COMMUNITY DEVELOPMENT</th>\n",
              "      <td>88363.257143</td>\n",
              "    </tr>\n",
              "    <tr>\n",
              "      <th>COPA</th>\n",
              "      <td>98784.705882</td>\n",
              "    </tr>\n",
              "    <tr>\n",
              "      <th>CULTURAL AFFAIRS</th>\n",
              "      <td>87048.909091</td>\n",
              "    </tr>\n",
              "    <tr>\n",
              "      <th>DISABILITIES</th>\n",
              "      <td>82431.724138</td>\n",
              "    </tr>\n",
              "    <tr>\n",
              "      <th>DoIT</th>\n",
              "      <td>99681.029703</td>\n",
              "    </tr>\n",
              "    <tr>\n",
              "      <th>FAMILY &amp; SUPPORT</th>\n",
              "      <td>79013.588785</td>\n",
              "    </tr>\n",
              "    <tr>\n",
              "      <th>FINANCE</th>\n",
              "      <td>73276.364662</td>\n",
              "    </tr>\n",
              "    <tr>\n",
              "      <th>FIRE</th>\n",
              "      <td>97762.348662</td>\n",
              "    </tr>\n",
              "    <tr>\n",
              "      <th>GENERAL SERVICES</th>\n",
              "      <td>83095.528390</td>\n",
              "    </tr>\n",
              "    <tr>\n",
              "      <th>HEALTH</th>\n",
              "      <td>85488.210938</td>\n",
              "    </tr>\n",
              "    <tr>\n",
              "      <th>HUMAN RELATIONS</th>\n",
              "      <td>93778.588235</td>\n",
              "    </tr>\n",
              "    <tr>\n",
              "      <th>HUMAN RESOURCES</th>\n",
              "      <td>79851.761194</td>\n",
              "    </tr>\n",
              "    <tr>\n",
              "      <th>INSPECTOR GEN</th>\n",
              "      <td>84030.666667</td>\n",
              "    </tr>\n",
              "    <tr>\n",
              "      <th>IPRA</th>\n",
              "      <td>94429.285714</td>\n",
              "    </tr>\n",
              "    <tr>\n",
              "      <th>LAW</th>\n",
              "      <td>84582.814404</td>\n",
              "    </tr>\n",
              "    <tr>\n",
              "      <th>LICENSE APPL COMM</th>\n",
              "      <td>80568.000000</td>\n",
              "    </tr>\n",
              "    <tr>\n",
              "      <th>MAYOR'S OFFICE</th>\n",
              "      <td>96165.512308</td>\n",
              "    </tr>\n",
              "    <tr>\n",
              "      <th>OEMC</th>\n",
              "      <td>73153.778221</td>\n",
              "    </tr>\n",
              "    <tr>\n",
              "      <th>POLICE</th>\n",
              "      <td>87836.025349</td>\n",
              "    </tr>\n",
              "    <tr>\n",
              "      <th>POLICE BOARD</th>\n",
              "      <td>86136.000000</td>\n",
              "    </tr>\n",
              "    <tr>\n",
              "      <th>PROCUREMENT</th>\n",
              "      <td>83278.243902</td>\n",
              "    </tr>\n",
              "    <tr>\n",
              "      <th>PUBLIC LIBRARY</th>\n",
              "      <td>71273.288136</td>\n",
              "    </tr>\n",
              "    <tr>\n",
              "      <th>STREETS &amp; SAN</th>\n",
              "      <td>84347.775701</td>\n",
              "    </tr>\n",
              "    <tr>\n",
              "      <th>TRANSPORTN</th>\n",
              "      <td>89976.896061</td>\n",
              "    </tr>\n",
              "    <tr>\n",
              "      <th>TREASURER</th>\n",
              "      <td>88062.652174</td>\n",
              "    </tr>\n",
              "    <tr>\n",
              "      <th>WATER MGMNT</th>\n",
              "      <td>89894.111803</td>\n",
              "    </tr>\n",
              "  </tbody>\n",
              "</table>\n",
              "</div>"
            ],
            "text/plain": [
              "                             Salary\n",
              "Department                         \n",
              "ADMIN HEARNG           78912.947368\n",
              "ANIMAL CONTRL          66089.684211\n",
              "AVIATION               76140.018777\n",
              "BOARD OF ELECTION      56051.142857\n",
              "BOARD OF ETHICS        94552.500000\n",
              "BUDGET & MGMT          93925.395349\n",
              "BUILDINGS              98864.833534\n",
              "BUSINESS AFFAIRS       80446.425000\n",
              "CITY CLERK             69762.439024\n",
              "CITY COUNCIL           63577.172069\n",
              "COMMUNITY DEVELOPMENT  88363.257143\n",
              "COPA                   98784.705882\n",
              "CULTURAL AFFAIRS       87048.909091\n",
              "DISABILITIES           82431.724138\n",
              "DoIT                   99681.029703\n",
              "FAMILY & SUPPORT       79013.588785\n",
              "FINANCE                73276.364662\n",
              "FIRE                   97762.348662\n",
              "GENERAL SERVICES       83095.528390\n",
              "HEALTH                 85488.210938\n",
              "HUMAN RELATIONS        93778.588235\n",
              "HUMAN RESOURCES        79851.761194\n",
              "INSPECTOR GEN          84030.666667\n",
              "IPRA                   94429.285714\n",
              "LAW                    84582.814404\n",
              "LICENSE APPL COMM      80568.000000\n",
              "MAYOR'S OFFICE         96165.512308\n",
              "OEMC                   73153.778221\n",
              "POLICE                 87836.025349\n",
              "POLICE BOARD           86136.000000\n",
              "PROCUREMENT            83278.243902\n",
              "PUBLIC LIBRARY         71273.288136\n",
              "STREETS & SAN          84347.775701\n",
              "TRANSPORTN             89976.896061\n",
              "TREASURER              88062.652174\n",
              "WATER MGMNT            89894.111803"
            ]
          },
          "execution_count": 66,
          "metadata": {},
          "output_type": "execute_result"
        }
      ],
      "source": [
        "pay.groupby('Department')[['Salary']].mean()"
      ]
    },
    {
      "cell_type": "markdown",
      "metadata": {
        "collapsed": true,
        "id": "AyeF9BB3oH61"
      },
      "source": [
        "**21. What is the job title of 'AGAR,  BULENT B'?** please note, there are two spaces between AGAR, and BULENT."
      ]
    },
    {
      "cell_type": "code",
      "execution_count": null,
      "metadata": {
        "id": "tna-pXVSoH61",
        "outputId": "000aad67-bc5e-4731-e696-dcab5cf06c50"
      },
      "outputs": [
        {
          "data": {
            "text/plain": [
              "230    CHIEF ENGINEER OF SEWERS\n",
              "Name: Job Titles, dtype: object"
            ]
          },
          "execution_count": 67,
          "metadata": {},
          "output_type": "execute_result"
        }
      ],
      "source": [
        "pay[pay['Name']=='AGAR,  BULENT B']['Job Titles']"
      ]
    },
    {
      "cell_type": "code",
      "execution_count": null,
      "metadata": {
        "scrolled": false,
        "id": "htOApgZhoH61",
        "outputId": "fa43757c-ffad-40ad-d9c9-eac3552ca9dc"
      },
      "outputs": [
        {
          "name": "stdout",
          "output_type": "stream",
          "text": [
            "Enter a Name: AGAR,  BULENT B\n"
          ]
        },
        {
          "data": {
            "text/plain": [
              "230    CHIEF ENGINEER OF SEWERS\n",
              "Name: Job Titles, dtype: object"
            ]
          },
          "execution_count": 68,
          "metadata": {},
          "output_type": "execute_result"
        }
      ],
      "source": [
        "name = input(\"Enter a Name: \")\n",
        "pay[pay['Name']==name]['Job Titles']"
      ]
    },
    {
      "cell_type": "markdown",
      "metadata": {
        "id": "AP9PgjdgoH62"
      },
      "source": [
        "**22. What are the top most common job titles?**"
      ]
    },
    {
      "cell_type": "code",
      "execution_count": null,
      "metadata": {
        "id": "201eu8ORoH62",
        "outputId": "3589e80b-7f74-4e48-c738-bbc34ced6c1c"
      },
      "outputs": [
        {
          "data": {
            "text/plain": [
              "Job Titles\n",
              "POLICE OFFICER    9393\n",
              "Name: count, dtype: int64"
            ]
          },
          "execution_count": 69,
          "metadata": {},
          "output_type": "execute_result"
        }
      ],
      "source": [
        "pay['Job Titles'].value_counts().head(1)"
      ]
    },
    {
      "cell_type": "markdown",
      "metadata": {
        "id": "513a_A9boH62"
      },
      "source": [
        "**23. How many people have the word 'officer' in their job title? (This is pretty tricky)**"
      ]
    },
    {
      "cell_type": "code",
      "execution_count": null,
      "metadata": {
        "id": "v6PszaidoH62"
      },
      "outputs": [],
      "source": [
        "def find_string(title):\n",
        "    if 'officer' in title.lower(): #Field_Officer(manager)\n",
        "        return True\n",
        "    else:\n",
        "        return False"
      ]
    },
    {
      "cell_type": "code",
      "execution_count": null,
      "metadata": {
        "id": "akyNyPjFoH62",
        "outputId": "aa585a4c-5ca0-4b6b-bd9d-f6c95c347c28"
      },
      "outputs": [
        {
          "data": {
            "text/plain": [
              "0        False\n",
              "1        False\n",
              "2        False\n",
              "3        False\n",
              "4        False\n",
              "         ...  \n",
              "32653     True\n",
              "32654     True\n",
              "32655     True\n",
              "32656     True\n",
              "32657    False\n",
              "Name: Job Titles, Length: 32658, dtype: bool"
            ]
          },
          "execution_count": 72,
          "metadata": {},
          "output_type": "execute_result"
        }
      ],
      "source": [
        "pay['Job Titles'].apply(find_string)"
      ]
    },
    {
      "cell_type": "code",
      "execution_count": null,
      "metadata": {
        "id": "f26h7-cuoH62",
        "outputId": "85885f01-d1bf-4a31-afb3-2479995a1b0e"
      },
      "outputs": [
        {
          "data": {
            "text/plain": [
              "11101"
            ]
          },
          "execution_count": 73,
          "metadata": {},
          "output_type": "execute_result"
        }
      ],
      "source": [
        "pay['Job Titles'].apply(find_string).sum()"
      ]
    },
    {
      "cell_type": "code",
      "execution_count": null,
      "metadata": {
        "id": "-AZnGXuHoH63",
        "outputId": "01d60f64-ab85-4c8d-f582-58317f5a4737"
      },
      "outputs": [
        {
          "data": {
            "text/plain": [
              "11101"
            ]
          },
          "execution_count": 74,
          "metadata": {},
          "output_type": "execute_result"
        }
      ],
      "source": [
        "sum(pay['Job Titles'].apply(find_string))"
      ]
    },
    {
      "cell_type": "code",
      "execution_count": null,
      "metadata": {
        "id": "pydsA8QMoH66"
      },
      "outputs": [],
      "source": [
        "pay[pay['Job Titles'].str.contains('officer', case=False)].count()['Name']"
      ]
    },
    {
      "cell_type": "code",
      "execution_count": null,
      "metadata": {
        "id": "vK_mtCdroH66"
      },
      "outputs": [],
      "source": [
        "pay"
      ]
    },
    {
      "cell_type": "markdown",
      "metadata": {
        "id": "U-IS50iSoH66"
      },
      "source": [
        "**24. Save the final dataframe to a csv file**"
      ]
    },
    {
      "cell_type": "code",
      "execution_count": null,
      "metadata": {
        "id": "CXDsUBd0oH66"
      },
      "outputs": [],
      "source": [
        "pay.to_csv('E:\\store.csv')"
      ]
    },
    {
      "cell_type": "markdown",
      "metadata": {
        "id": "OYVidl64oH67"
      },
      "source": [
        "# Great Job!"
      ]
    }
  ],
  "metadata": {
    "kernelspec": {
      "display_name": "Python 3 (ipykernel)",
      "language": "python",
      "name": "python3"
    },
    "language_info": {
      "codemirror_mode": {
        "name": "ipython",
        "version": 3
      },
      "file_extension": ".py",
      "mimetype": "text/x-python",
      "name": "python",
      "nbconvert_exporter": "python",
      "pygments_lexer": "ipython3",
      "version": "3.11.5"
    },
    "colab": {
      "provenance": [],
      "include_colab_link": true
    }
  },
  "nbformat": 4,
  "nbformat_minor": 0
}